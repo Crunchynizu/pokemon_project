{
 "cells": [
  {
   "cell_type": "code",
   "execution_count": 2,
   "id": "15e869d8-c5f9-41fc-9ffd-7053ccb12d67",
   "metadata": {},
   "outputs": [],
   "source": [
    "import pandas as pd\n",
    "from sklearn.preprocessing import LabelEncoder\n",
    "from sklearn.ensemble import RandomForestClassifier\n",
    "import pickle\n",
    "\n",
    "# Load the data\n",
    "df = pd.read_csv(\"Pokedex_Cleaned.csv\", encoding='ISO-8859-1')\n",
    "\n",
    "# Recalculate all Total stats\n",
    "base_stats = ['HP', 'Attack', 'Defense', 'Sp.Atk', 'Sp.Def', 'Speed']\n",
    "df['Total'] = df[base_stats].sum(axis=1)\n",
    "\n",
    "# Create Combat_Class\n",
    "bins = [0, 400, 500, 600, 680, df['Total'].max()]\n",
    "labels = ['Weak', 'Average', 'Strong', 'Pseudo-Legend', 'Legendary']\n",
    "df['Combat_Class'] = pd.cut(df['Total'], bins=bins, labels=labels, right=False)\n",
    "\n",
    "# Encode Combat_Class\n",
    "le = LabelEncoder()\n",
    "df['Combat_Class_encoded'] = le.fit_transform(df['Combat_Class'])\n",
    "\n",
    "# Train model\n",
    "X = df[base_stats]\n",
    "y = df['Combat_Class_encoded']\n",
    "rfc = RandomForestClassifier(random_state=42)\n",
    "rfc.fit(X, y)\n",
    "\n",
    "# Save the new model and encoder\n",
    "with open(\"best_pokemon_model.pkl\", \"wb\") as f:\n",
    "    pickle.dump(rfc, f)\n",
    "    \n",
    "with open(\"label_encoder.pkl\", \"wb\") as f:\n",
    "    pickle.dump(le, f)"
   ]
  },
  {
   "cell_type": "code",
   "execution_count": null,
   "id": "a8037c2a-937e-4055-8525-dd63e4ec1e38",
   "metadata": {},
   "outputs": [],
   "source": []
  }
 ],
 "metadata": {
  "kernelspec": {
   "display_name": "Python 3 (ipykernel)",
   "language": "python",
   "name": "python3"
  },
  "language_info": {
   "codemirror_mode": {
    "name": "ipython",
    "version": 3
   },
   "file_extension": ".py",
   "mimetype": "text/x-python",
   "name": "python",
   "nbconvert_exporter": "python",
   "pygments_lexer": "ipython3",
   "version": "3.13.1"
  }
 },
 "nbformat": 4,
 "nbformat_minor": 5
}
